{
 "cells": [
  {
   "cell_type": "code",
   "execution_count": 36,
   "metadata": {},
   "outputs": [],
   "source": [
    "import pandas as pd\n",
    "import numpy as np"
   ]
  },
  {
   "cell_type": "code",
   "execution_count": 2,
   "metadata": {},
   "outputs": [],
   "source": [
    "desn = pd.read_csv('data/desagregados/desnutricion.csv')\n",
    "em = pd.read_csv('data/desagregados/escaños_mujeres.csv')\n",
    "gi = pd.read_csv('data/desagregados/govindex.csv')\n",
    "hb = pd.read_csv('data/desagregados/hospital_beds.csv')"
   ]
  },
  {
   "cell_type": "code",
   "execution_count": 3,
   "metadata": {},
   "outputs": [],
   "source": [
    "subset_paises = ['Argentina','Brasil','Bolivia','Perú','Uruguay','Paraguay','Ecuador','Colombia','Chile']"
   ]
  },
  {
   "cell_type": "code",
   "execution_count": 4,
   "metadata": {},
   "outputs": [],
   "source": [
    "desn = desn[desn['Country Name'].isin(subset_paises)].replace('..', np.nan).drop('Series Code', axis = 1)\n",
    "em = em[em['Country Name'].isin(subset_paises)].replace('..', np.nan).drop('Series Code', axis = 1)\n",
    "gi = gi[gi['país Name'].isin(subset_paises)].replace('..', np.nan)\n",
    "hb = hb[hb['Country Name'].isin(subset_paises)].replace('..', np.nan).drop('Series Code', axis = 1)"
   ]
  },
  {
   "cell_type": "code",
   "execution_count": 5,
   "metadata": {},
   "outputs": [],
   "source": [
    "desn.columns = [x if 'YR' not in x else x.split(' ')[0] for x in desn.columns]\n",
    "em.columns = [x if 'YR' not in x else x.split(' ')[0] for x in em.columns]\n",
    "hb.columns = [x if 'YR' not in x else x.split(' ')[0] for x in hb.columns]"
   ]
  },
  {
   "cell_type": "code",
   "execution_count": 6,
   "metadata": {},
   "outputs": [],
   "source": [
    "em = pd.melt(em, id_vars = ['Series Name','Country Name'], value_vars = ['1990', '2000', '2011',\n",
    "       '2012', '2013', '2014', '2015', '2016', '2017', '2018', '2019', '2020']).rename(columns = {\n",
    "    'variable':'year',\n",
    "    'Country Name':'Country'\n",
    "})\n",
    "\n",
    "desn = pd.melt(desn, id_vars = ['Series Name','Country Name'], value_vars = ['1990', '2000', '2011',\n",
    "       '2012', '2013', '2014', '2015', '2016', '2017', '2018', '2019', '2020']).rename(columns = {\n",
    "    'variable':'year',\n",
    "    'Country Name':'Country'\n",
    "})\n",
    "\n",
    "hb = pd.melt(hb, id_vars = ['Series Name','Country Name'], value_vars = ['1990', '2000', '2011',\n",
    "       '2012', '2013', '2014', '2015', '2016', '2017', '2018', '2019', '2020']).rename(columns = {\n",
    "    'variable':'year',\n",
    "    'Country Name':'Country'\n",
    "})"
   ]
  },
  {
   "cell_type": "code",
   "execution_count": 7,
   "metadata": {},
   "outputs": [],
   "source": [
    "gi = gi[['tiempo','país Name','Control of Corruption: Estimate [CC.EST]']]\n",
    "gi['Series Name'] = 'Control of Corruption Score'\n",
    "gi.rename(columns = {\n",
    "    'tiempo':'year',\n",
    "    'país Name':'Country',\n",
    "    'Control of Corruption: Estimate [CC.EST]':'value'\n",
    "}, inplace = True)"
   ]
  },
  {
   "cell_type": "code",
   "execution_count": 8,
   "metadata": {},
   "outputs": [],
   "source": [
    "data = pd.concat([\n",
    "    desn, em, hb, gi\n",
    "])"
   ]
  },
  {
   "cell_type": "code",
   "execution_count": 9,
   "metadata": {},
   "outputs": [
    {
     "data": {
      "text/html": [
       "<div>\n",
       "<style scoped>\n",
       "    .dataframe tbody tr th:only-of-type {\n",
       "        vertical-align: middle;\n",
       "    }\n",
       "\n",
       "    .dataframe tbody tr th {\n",
       "        vertical-align: top;\n",
       "    }\n",
       "\n",
       "    .dataframe thead th {\n",
       "        text-align: right;\n",
       "    }\n",
       "</style>\n",
       "<table border=\"1\" class=\"dataframe\">\n",
       "  <thead>\n",
       "    <tr style=\"text-align: right;\">\n",
       "      <th></th>\n",
       "      <th>Series Name</th>\n",
       "      <th>Country</th>\n",
       "      <th>year</th>\n",
       "      <th>value</th>\n",
       "    </tr>\n",
       "  </thead>\n",
       "  <tbody>\n",
       "    <tr>\n",
       "      <th>0</th>\n",
       "      <td>Prevalencia de desnutrición (% de la población)</td>\n",
       "      <td>Argentina</td>\n",
       "      <td>1990</td>\n",
       "      <td>NaN</td>\n",
       "    </tr>\n",
       "    <tr>\n",
       "      <th>1</th>\n",
       "      <td>Prevalencia de desnutrición (% de la población)</td>\n",
       "      <td>Bolivia</td>\n",
       "      <td>1990</td>\n",
       "      <td>NaN</td>\n",
       "    </tr>\n",
       "    <tr>\n",
       "      <th>2</th>\n",
       "      <td>Prevalencia de desnutrición (% de la población)</td>\n",
       "      <td>Brasil</td>\n",
       "      <td>1990</td>\n",
       "      <td>NaN</td>\n",
       "    </tr>\n",
       "    <tr>\n",
       "      <th>3</th>\n",
       "      <td>Prevalencia de desnutrición (% de la población)</td>\n",
       "      <td>Chile</td>\n",
       "      <td>1990</td>\n",
       "      <td>NaN</td>\n",
       "    </tr>\n",
       "    <tr>\n",
       "      <th>4</th>\n",
       "      <td>Prevalencia de desnutrición (% de la población)</td>\n",
       "      <td>Colombia</td>\n",
       "      <td>1990</td>\n",
       "      <td>NaN</td>\n",
       "    </tr>\n",
       "  </tbody>\n",
       "</table>\n",
       "</div>"
      ],
      "text/plain": [
       "                                       Series Name    Country  year value\n",
       "0  Prevalencia de desnutrición (% de la población)  Argentina  1990   NaN\n",
       "1  Prevalencia de desnutrición (% de la población)    Bolivia  1990   NaN\n",
       "2  Prevalencia de desnutrición (% de la población)     Brasil  1990   NaN\n",
       "3  Prevalencia de desnutrición (% de la población)      Chile  1990   NaN\n",
       "4  Prevalencia de desnutrición (% de la población)   Colombia  1990   NaN"
      ]
     },
     "execution_count": 9,
     "metadata": {},
     "output_type": "execute_result"
    }
   ],
   "source": [
    "data.head()"
   ]
  },
  {
   "cell_type": "code",
   "execution_count": 10,
   "metadata": {},
   "outputs": [],
   "source": [
    "data['value'] = data['value'].astype(float)"
   ]
  },
  {
   "cell_type": "code",
   "execution_count": 58,
   "metadata": {},
   "outputs": [],
   "source": [
    "data.to_csv('data/data.csv')"
   ]
  },
  {
   "cell_type": "code",
   "execution_count": 38,
   "metadata": {},
   "outputs": [],
   "source": [
    "data = pd.read_csv('data/data.csv', index_col = 0)"
   ]
  },
  {
   "cell_type": "raw",
   "metadata": {},
   "source": [
    "data['Country'] = data['Country'].replace({'Perú':'Peru', 'Brasil':'Brazil'})"
   ]
  },
  {
   "cell_type": "code",
   "execution_count": 47,
   "metadata": {},
   "outputs": [],
   "source": [
    "vars_ = ['nutr','escaños_mujeres','camas_hosp','corruption']"
   ]
  },
  {
   "cell_type": "code",
   "execution_count": 48,
   "metadata": {},
   "outputs": [],
   "source": [
    "series = data['Series Name'].unique()"
   ]
  },
  {
   "cell_type": "code",
   "execution_count": 52,
   "metadata": {},
   "outputs": [],
   "source": [
    "dic_vars = dict(zip(series,vars_))"
   ]
  },
  {
   "cell_type": "code",
   "execution_count": 53,
   "metadata": {},
   "outputs": [
    {
     "data": {
      "text/plain": [
       "{'Prevalencia de desnutrición (% de la población)': 'nutr',\n",
       " 'Proporción de escaños ocupados por mujeres en los parlamentos nacionales (%)': 'escaños_mujeres',\n",
       " 'Camas hospitalarias (por cada 1.000 personas)': 'camas_hosp',\n",
       " 'Control of Corruption Score': 'corruption'}"
      ]
     },
     "execution_count": 53,
     "metadata": {},
     "output_type": "execute_result"
    }
   ],
   "source": [
    "dic_vars"
   ]
  },
  {
   "cell_type": "code",
   "execution_count": 56,
   "metadata": {},
   "outputs": [],
   "source": [
    "data['vars'] = data['Series Name'].apply(lambda x: dic_vars[x])"
   ]
  },
  {
   "cell_type": "code",
   "execution_count": 57,
   "metadata": {},
   "outputs": [
    {
     "data": {
      "text/html": [
       "<div>\n",
       "<style scoped>\n",
       "    .dataframe tbody tr th:only-of-type {\n",
       "        vertical-align: middle;\n",
       "    }\n",
       "\n",
       "    .dataframe tbody tr th {\n",
       "        vertical-align: top;\n",
       "    }\n",
       "\n",
       "    .dataframe thead th {\n",
       "        text-align: right;\n",
       "    }\n",
       "</style>\n",
       "<table border=\"1\" class=\"dataframe\">\n",
       "  <thead>\n",
       "    <tr style=\"text-align: right;\">\n",
       "      <th></th>\n",
       "      <th>Country</th>\n",
       "      <th>Series Name</th>\n",
       "      <th>year</th>\n",
       "      <th>value</th>\n",
       "      <th>ISO</th>\n",
       "      <th>vars</th>\n",
       "    </tr>\n",
       "  </thead>\n",
       "  <tbody>\n",
       "    <tr>\n",
       "      <th>0</th>\n",
       "      <td>Argentina</td>\n",
       "      <td>Prevalencia de desnutrición (% de la población)</td>\n",
       "      <td>1990</td>\n",
       "      <td>NaN</td>\n",
       "      <td>ARG</td>\n",
       "      <td>nutr</td>\n",
       "    </tr>\n",
       "    <tr>\n",
       "      <th>1</th>\n",
       "      <td>Argentina</td>\n",
       "      <td>Prevalencia de desnutrición (% de la población)</td>\n",
       "      <td>2000</td>\n",
       "      <td>NaN</td>\n",
       "      <td>ARG</td>\n",
       "      <td>nutr</td>\n",
       "    </tr>\n",
       "    <tr>\n",
       "      <th>2</th>\n",
       "      <td>Argentina</td>\n",
       "      <td>Prevalencia de desnutrición (% de la población)</td>\n",
       "      <td>2011</td>\n",
       "      <td>3.3</td>\n",
       "      <td>ARG</td>\n",
       "      <td>nutr</td>\n",
       "    </tr>\n",
       "    <tr>\n",
       "      <th>3</th>\n",
       "      <td>Argentina</td>\n",
       "      <td>Prevalencia de desnutrición (% de la población)</td>\n",
       "      <td>2012</td>\n",
       "      <td>3.2</td>\n",
       "      <td>ARG</td>\n",
       "      <td>nutr</td>\n",
       "    </tr>\n",
       "    <tr>\n",
       "      <th>4</th>\n",
       "      <td>Argentina</td>\n",
       "      <td>Prevalencia de desnutrición (% de la población)</td>\n",
       "      <td>2013</td>\n",
       "      <td>2.8</td>\n",
       "      <td>ARG</td>\n",
       "      <td>nutr</td>\n",
       "    </tr>\n",
       "  </tbody>\n",
       "</table>\n",
       "</div>"
      ],
      "text/plain": [
       "     Country                                      Series Name  year  value  \\\n",
       "0  Argentina  Prevalencia de desnutrición (% de la población)  1990    NaN   \n",
       "1  Argentina  Prevalencia de desnutrición (% de la población)  2000    NaN   \n",
       "2  Argentina  Prevalencia de desnutrición (% de la población)  2011    3.3   \n",
       "3  Argentina  Prevalencia de desnutrición (% de la población)  2012    3.2   \n",
       "4  Argentina  Prevalencia de desnutrición (% de la población)  2013    2.8   \n",
       "\n",
       "   ISO  vars  \n",
       "0  ARG  nutr  \n",
       "1  ARG  nutr  \n",
       "2  ARG  nutr  \n",
       "3  ARG  nutr  \n",
       "4  ARG  nutr  "
      ]
     },
     "execution_count": 57,
     "metadata": {},
     "output_type": "execute_result"
    }
   ],
   "source": [
    "data.head()"
   ]
  },
  {
   "cell_type": "code",
   "execution_count": 43,
   "metadata": {},
   "outputs": [
    {
     "data": {
      "text/plain": [
       "2020"
      ]
     },
     "execution_count": 43,
     "metadata": {},
     "output_type": "execute_result"
    }
   ],
   "source": [
    "data[data['Series Name'] == 'Prevalencia de desnutrición (% de la población)']['year'].max()"
   ]
  },
  {
   "cell_type": "code",
   "execution_count": null,
   "metadata": {},
   "outputs": [],
   "source": []
  },
  {
   "cell_type": "raw",
   "metadata": {},
   "source": [
    "import plotly.express as px\n",
    "\n",
    "df = px.data.gapminder().query(\"year==2007\")\n",
    "\n",
    "countries = [x for x in data['Country'].unique() if x in df['country'].unique()]\n",
    "\n",
    "countries_iso = df[df['country'].isin(countries)][['country','iso_alpha']]\n",
    "\n",
    "countries_iso.columns = ['Country','ISO']\n",
    "\n",
    "countries_iso = countries_iso.set_index('Country')\n",
    "\n",
    "data = data.set_index('Country').join(countries_iso, how = 'left').reset_index()\n",
    "\n",
    "data['Country'] = data['Country'].replace({'Peru':'Perú', 'Brazil':'Brasil'})\n",
    "\n",
    "data.to_csv('data/data.csv')"
   ]
  },
  {
   "cell_type": "code",
   "execution_count": null,
   "metadata": {},
   "outputs": [],
   "source": []
  }
 ],
 "metadata": {
  "kernelspec": {
   "display_name": "Python 3",
   "language": "python",
   "name": "python3"
  },
  "language_info": {
   "codemirror_mode": {
    "name": "ipython",
    "version": 3
   },
   "file_extension": ".py",
   "mimetype": "text/x-python",
   "name": "python",
   "nbconvert_exporter": "python",
   "pygments_lexer": "ipython3",
   "version": "3.8.3"
  }
 },
 "nbformat": 4,
 "nbformat_minor": 4
}
